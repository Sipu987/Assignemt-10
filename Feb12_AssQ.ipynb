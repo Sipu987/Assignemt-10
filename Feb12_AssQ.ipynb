{
 "cells": [
  {
   "cell_type": "code",
   "execution_count": 1,
   "id": "f486b1af-253e-43db-b6f5-770128937f34",
   "metadata": {},
   "outputs": [],
   "source": [
    "#Ans1. Exception is an indcident or error which happens when we execute the code. Even if \n",
    "# a statement is syntactically correct but it does not allow us to run the code.\n",
    "\n",
    "# Syntax error pops up when the code is not written as per guideline on python language. But Exception error pops up\n",
    "# when codes are written correctly but result might be invalid or, data are not avilable or, we might not place proper \n",
    "# request."
   ]
  },
  {
   "cell_type": "code",
   "execution_count": 12,
   "id": "eb63ad8f-1ec8-4af8-b100-b0c6ff5b270c",
   "metadata": {},
   "outputs": [
    {
     "ename": "ZeroDivisionError",
     "evalue": "division by zero",
     "output_type": "error",
     "traceback": [
      "\u001b[0;31m---------------------------------------------------------------------------\u001b[0m",
      "\u001b[0;31mZeroDivisionError\u001b[0m                         Traceback (most recent call last)",
      "Cell \u001b[0;32mIn[12], line 8\u001b[0m\n\u001b[1;32m      6\u001b[0m     \u001b[38;5;28mprint\u001b[39m(\u001b[38;5;124m\"\u001b[39m\u001b[38;5;124mWe have string data\u001b[39m\u001b[38;5;124m\"\u001b[39m)\n\u001b[1;32m      7\u001b[0m \u001b[38;5;28;01melif\u001b[39;00m \u001b[38;5;28mtype\u001b[39m(i) \u001b[38;5;241m==\u001b[39m \u001b[38;5;28mint\u001b[39m:\n\u001b[0;32m----> 8\u001b[0m     \u001b[38;5;28mprint\u001b[39m(\u001b[43mi\u001b[49m\u001b[38;5;241;43m/\u001b[39;49m\u001b[38;5;241;43m0\u001b[39;49m)\n\u001b[1;32m      9\u001b[0m \u001b[38;5;28;01melse\u001b[39;00m:\n\u001b[1;32m     10\u001b[0m     \u001b[38;5;28mprint\u001b[39m(\u001b[38;5;124m\"\u001b[39m\u001b[38;5;124mNot a valid number\u001b[39m\u001b[38;5;124m\"\u001b[39m)\n",
      "\u001b[0;31mZeroDivisionError\u001b[0m: division by zero"
     ]
    }
   ],
   "source": [
    "#An2. When Exception is not handel, it will trogh error and does not allow us to run the code. It will not \n",
    "#provide any result\n",
    "x = [1,2,3,\"sdf\"]\n",
    "for i in x:\n",
    "    if type(i) == str:\n",
    "        print(\"We have string data\")\n",
    "    elif type(i) == int:\n",
    "        print(i/0)\n",
    "    else:\n",
    "        print(\"Not a valid number\")"
   ]
  },
  {
   "cell_type": "code",
   "execution_count": 14,
   "id": "f990b2b2-749b-482f-b147-18582b22eb4f",
   "metadata": {},
   "outputs": [
    {
     "name": "stdout",
     "output_type": "stream",
     "text": [
      "We added exception for ZeroDivison Error\n"
     ]
    }
   ],
   "source": [
    "#3. Ans\n",
    "#Try...Except are used to catch and handel Exception\n",
    "try:\n",
    "    x = 13\n",
    "    y = 0\n",
    "    \n",
    "    z = x/y\n",
    "    print(z)\n",
    "except:\n",
    "    print(\"We added exception for ZeroDivison Error\")    "
   ]
  },
  {
   "cell_type": "code",
   "execution_count": 32,
   "id": "789293dc-9052-4227-bf7d-f6f3f37d2814",
   "metadata": {},
   "outputs": [],
   "source": [
    "#4.Ans\n",
    "# Try blosck, we execute some code. \n",
    "# Else - Allow us run the code which are correct\n",
    "# Finally - Always allow us to execute the code regardless the result of  try or except block on error handelling\n",
    "# raise - To raise an exception\n",
    "\n",
    "def Divison(a,b):\n",
    "    try:\n",
    "        x = a//b\n",
    "    except ZeroDivisionError:\n",
    "        print(\"Ignore the error\")\n",
    "    else:\n",
    "        print(\"Your Answer is:\",x)\n",
    "    finally:\n",
    "        print(\"Try with next two integers\")"
   ]
  },
  {
   "cell_type": "code",
   "execution_count": 33,
   "id": "8f668b6e-065f-41e7-9ecd-2e5051271596",
   "metadata": {},
   "outputs": [
    {
     "name": "stdout",
     "output_type": "stream",
     "text": [
      "Ignore the error\n",
      "Try with next two integers\n"
     ]
    }
   ],
   "source": [
    "Divison(1,0)"
   ]
  },
  {
   "cell_type": "code",
   "execution_count": 34,
   "id": "0e497397-8740-46f3-a460-5e29b5289660",
   "metadata": {},
   "outputs": [
    {
     "name": "stdout",
     "output_type": "stream",
     "text": [
      "Your Answer is: 2\n",
      "Try with next two integers\n"
     ]
    }
   ],
   "source": [
    "Divison(6,3)"
   ]
  },
  {
   "cell_type": "code",
   "execution_count": 40,
   "id": "19e05663-3705-4d5e-834f-0f85676195a2",
   "metadata": {},
   "outputs": [
    {
     "name": "stdin",
     "output_type": "stream",
     "text": [
      "Enter an amount:  -19\n"
     ]
    },
    {
     "name": "stdout",
     "output_type": "stream",
     "text": [
      "Int can not be negative\n"
     ]
    }
   ],
   "source": [
    "#4.c.\n",
    "try:\n",
    "    i = int(input(\"Enter an amount: \"))\n",
    "    if i < 0:\n",
    "        raise ValueError(\"Int can not be negative\")\n",
    "except ValueError as e:\n",
    "    print(e)"
   ]
  },
  {
   "cell_type": "code",
   "execution_count": 41,
   "id": "80b66aa6-cb30-4c38-a3bc-1da97f606543",
   "metadata": {},
   "outputs": [],
   "source": [
    "#5.Ans."
   ]
  },
  {
   "cell_type": "code",
   "execution_count": null,
   "id": "f649d8dd-826b-41ab-b6b2-fc3a69adaafb",
   "metadata": {},
   "outputs": [],
   "source": [
    "# Custom exception - Except build in exception, we create custom exception with help on class and we inherit\n",
    "# it with Exception. Custom exception allows to code as per our need and avoid all excepted error.\n",
    "# It will be easy and makes thing simple for marking purpose"
   ]
  },
  {
   "cell_type": "code",
   "execution_count": 49,
   "id": "7771915e-e421-40cc-96cc-a3552ff18560",
   "metadata": {},
   "outputs": [],
   "source": [
    "#6. Ans\n",
    "class note(Exception):\n",
    "    def __init__(self,msg):\n",
    "        self.msg = msg"
   ]
  },
  {
   "cell_type": "code",
   "execution_count": 50,
   "id": "602f8743-4408-4dc5-9087-f682ea923837",
   "metadata": {},
   "outputs": [],
   "source": [
    "n = 18\n",
    "def Voter_age(age):\n",
    "    if age < 0:\n",
    "        raise note(\"Age can not be Negative\")\n",
    "    elif age < n:\n",
    "        raise note(\"You can not vote\")\n",
    "    else:\n",
    "        print(\"You can  vote\")     "
   ]
  },
  {
   "cell_type": "code",
   "execution_count": 52,
   "id": "dc33fde4-1bf3-4a2d-9d4c-5594a505136c",
   "metadata": {},
   "outputs": [
    {
     "name": "stdin",
     "output_type": "stream",
     "text": [
      "enter your Age -8\n"
     ]
    },
    {
     "name": "stdout",
     "output_type": "stream",
     "text": [
      "Age can not be Negative\n",
      "You are welcome\n"
     ]
    }
   ],
   "source": [
    "try:\n",
    "    age = int(input(\"enter your Age\"))\n",
    "    Voter_age(age)\n",
    "except note as e:\n",
    "    print(e)\n",
    "finally:\n",
    "    print(\"You are welcome\")\n",
    "    "
   ]
  }
 ],
 "metadata": {
  "kernelspec": {
   "display_name": "Python 3 (ipykernel)",
   "language": "python",
   "name": "python3"
  },
  "language_info": {
   "codemirror_mode": {
    "name": "ipython",
    "version": 3
   },
   "file_extension": ".py",
   "mimetype": "text/x-python",
   "name": "python",
   "nbconvert_exporter": "python",
   "pygments_lexer": "ipython3",
   "version": "3.10.8"
  }
 },
 "nbformat": 4,
 "nbformat_minor": 5
}
